{
 "cells": [
  {
   "cell_type": "code",
   "execution_count": 1,
   "id": "50a9ab0d",
   "metadata": {},
   "outputs": [
    {
     "name": "stderr",
     "output_type": "stream",
     "text": [
      "C:\\Users\\Subodh Nagrale\\anaconda3\\envs\\tensorflow_env\\lib\\site-packages\\numpy\\_distributor_init.py:30: UserWarning: loaded more than 1 DLL from .libs:\n",
      "C:\\Users\\Subodh Nagrale\\anaconda3\\envs\\tensorflow_env\\lib\\site-packages\\numpy\\.libs\\libopenblas.PYQHXLVVQ7VESDPUVUADXEVJOBGHJPAY.gfortran-win_amd64.dll\n",
      "C:\\Users\\Subodh Nagrale\\anaconda3\\envs\\tensorflow_env\\lib\\site-packages\\numpy\\.libs\\libopenblas.WCDJNK7YVMPZQ2ME2ZZHJJRJ3JIKNDB7.gfortran-win_amd64.dll\n",
      "  warnings.warn(\"loaded more than 1 DLL from .libs:\"\n"
     ]
    }
   ],
   "source": [
    "import numpy as np\n",
    "import matplotlib.pyplot as plt\n",
    "import pandas as pd\n",
    "import pandas_datareader as web\n",
    "import datetime as dt\n"
   ]
  },
  {
   "cell_type": "code",
   "execution_count": 2,
   "id": "619657c7",
   "metadata": {},
   "outputs": [],
   "source": [
    "from sklearn.preprocessing import MinMaxScaler\n",
    "from tensorflow.keras.layers import Dense, Dropout,LSTM\n",
    "from tensorflow.keras.models import Sequential\n"
   ]
  },
  {
   "cell_type": "code",
   "execution_count": 3,
   "id": "774be943",
   "metadata": {},
   "outputs": [],
   "source": [
    "# XRP/USD pair analysis\n",
    "\n",
    "crypto_curr ='XRP'\n",
    "fiat_curr = 'USD'"
   ]
  },
  {
   "cell_type": "code",
   "execution_count": 4,
   "id": "9790d8bc",
   "metadata": {},
   "outputs": [],
   "source": [
    "start = dt.datetime(2016,1,1)\n",
    "end = dt.datetime.now()"
   ]
  },
  {
   "cell_type": "code",
   "execution_count": 5,
   "id": "2da3a176",
   "metadata": {},
   "outputs": [
    {
     "data": {
      "text/html": [
       "<div>\n",
       "<style scoped>\n",
       "    .dataframe tbody tr th:only-of-type {\n",
       "        vertical-align: middle;\n",
       "    }\n",
       "\n",
       "    .dataframe tbody tr th {\n",
       "        vertical-align: top;\n",
       "    }\n",
       "\n",
       "    .dataframe thead th {\n",
       "        text-align: right;\n",
       "    }\n",
       "</style>\n",
       "<table border=\"1\" class=\"dataframe\">\n",
       "  <thead>\n",
       "    <tr style=\"text-align: right;\">\n",
       "      <th></th>\n",
       "      <th>High</th>\n",
       "      <th>Low</th>\n",
       "      <th>Open</th>\n",
       "      <th>Close</th>\n",
       "      <th>Volume</th>\n",
       "      <th>Adj Close</th>\n",
       "    </tr>\n",
       "    <tr>\n",
       "      <th>Date</th>\n",
       "      <th></th>\n",
       "      <th></th>\n",
       "      <th></th>\n",
       "      <th></th>\n",
       "      <th></th>\n",
       "      <th></th>\n",
       "    </tr>\n",
       "  </thead>\n",
       "  <tbody>\n",
       "    <tr>\n",
       "      <th>2015-12-31</th>\n",
       "      <td>0.006184</td>\n",
       "      <td>0.006039</td>\n",
       "      <td>0.006184</td>\n",
       "      <td>0.006040</td>\n",
       "      <td>3.743550e+05</td>\n",
       "      <td>0.006040</td>\n",
       "    </tr>\n",
       "    <tr>\n",
       "      <th>2016-01-01</th>\n",
       "      <td>0.006044</td>\n",
       "      <td>0.005933</td>\n",
       "      <td>0.006040</td>\n",
       "      <td>0.005955</td>\n",
       "      <td>2.117670e+05</td>\n",
       "      <td>0.005955</td>\n",
       "    </tr>\n",
       "    <tr>\n",
       "      <th>2016-01-02</th>\n",
       "      <td>0.006079</td>\n",
       "      <td>0.005933</td>\n",
       "      <td>0.005957</td>\n",
       "      <td>0.006065</td>\n",
       "      <td>2.785390e+05</td>\n",
       "      <td>0.006065</td>\n",
       "    </tr>\n",
       "    <tr>\n",
       "      <th>2016-01-03</th>\n",
       "      <td>0.006070</td>\n",
       "      <td>0.005988</td>\n",
       "      <td>0.006066</td>\n",
       "      <td>0.006017</td>\n",
       "      <td>2.917230e+05</td>\n",
       "      <td>0.006017</td>\n",
       "    </tr>\n",
       "    <tr>\n",
       "      <th>2016-01-04</th>\n",
       "      <td>0.006059</td>\n",
       "      <td>0.005953</td>\n",
       "      <td>0.006019</td>\n",
       "      <td>0.005958</td>\n",
       "      <td>3.108200e+05</td>\n",
       "      <td>0.005958</td>\n",
       "    </tr>\n",
       "    <tr>\n",
       "      <th>...</th>\n",
       "      <td>...</td>\n",
       "      <td>...</td>\n",
       "      <td>...</td>\n",
       "      <td>...</td>\n",
       "      <td>...</td>\n",
       "      <td>...</td>\n",
       "    </tr>\n",
       "    <tr>\n",
       "      <th>2021-11-03</th>\n",
       "      <td>1.233025</td>\n",
       "      <td>1.126961</td>\n",
       "      <td>1.135938</td>\n",
       "      <td>1.208796</td>\n",
       "      <td>6.526804e+09</td>\n",
       "      <td>1.208796</td>\n",
       "    </tr>\n",
       "    <tr>\n",
       "      <th>2021-11-04</th>\n",
       "      <td>1.253728</td>\n",
       "      <td>1.166933</td>\n",
       "      <td>1.210519</td>\n",
       "      <td>1.202003</td>\n",
       "      <td>5.210116e+09</td>\n",
       "      <td>1.202003</td>\n",
       "    </tr>\n",
       "    <tr>\n",
       "      <th>2021-11-05</th>\n",
       "      <td>1.202404</td>\n",
       "      <td>1.141375</td>\n",
       "      <td>1.201917</td>\n",
       "      <td>1.161533</td>\n",
       "      <td>3.572444e+09</td>\n",
       "      <td>1.161533</td>\n",
       "    </tr>\n",
       "    <tr>\n",
       "      <th>2021-11-06</th>\n",
       "      <td>1.173303</td>\n",
       "      <td>1.108774</td>\n",
       "      <td>1.160634</td>\n",
       "      <td>1.152454</td>\n",
       "      <td>2.630197e+09</td>\n",
       "      <td>1.152454</td>\n",
       "    </tr>\n",
       "    <tr>\n",
       "      <th>2021-11-07</th>\n",
       "      <td>1.235425</td>\n",
       "      <td>1.148102</td>\n",
       "      <td>1.151698</td>\n",
       "      <td>1.217707</td>\n",
       "      <td>3.240258e+09</td>\n",
       "      <td>1.217707</td>\n",
       "    </tr>\n",
       "  </tbody>\n",
       "</table>\n",
       "<p>2135 rows × 6 columns</p>\n",
       "</div>"
      ],
      "text/plain": [
       "                High       Low      Open     Close        Volume  Adj Close\n",
       "Date                                                                       \n",
       "2015-12-31  0.006184  0.006039  0.006184  0.006040  3.743550e+05   0.006040\n",
       "2016-01-01  0.006044  0.005933  0.006040  0.005955  2.117670e+05   0.005955\n",
       "2016-01-02  0.006079  0.005933  0.005957  0.006065  2.785390e+05   0.006065\n",
       "2016-01-03  0.006070  0.005988  0.006066  0.006017  2.917230e+05   0.006017\n",
       "2016-01-04  0.006059  0.005953  0.006019  0.005958  3.108200e+05   0.005958\n",
       "...              ...       ...       ...       ...           ...        ...\n",
       "2021-11-03  1.233025  1.126961  1.135938  1.208796  6.526804e+09   1.208796\n",
       "2021-11-04  1.253728  1.166933  1.210519  1.202003  5.210116e+09   1.202003\n",
       "2021-11-05  1.202404  1.141375  1.201917  1.161533  3.572444e+09   1.161533\n",
       "2021-11-06  1.173303  1.108774  1.160634  1.152454  2.630197e+09   1.152454\n",
       "2021-11-07  1.235425  1.148102  1.151698  1.217707  3.240258e+09   1.217707\n",
       "\n",
       "[2135 rows x 6 columns]"
      ]
     },
     "execution_count": 5,
     "metadata": {},
     "output_type": "execute_result"
    }
   ],
   "source": [
    "data = web.DataReader(f'{crypto_curr}-{fiat_curr}','yahoo', start, end)\n",
    "data"
   ]
  },
  {
   "cell_type": "code",
   "execution_count": 6,
   "id": "8e9ef4ad",
   "metadata": {},
   "outputs": [
    {
     "data": {
      "text/html": [
       "<div>\n",
       "<style scoped>\n",
       "    .dataframe tbody tr th:only-of-type {\n",
       "        vertical-align: middle;\n",
       "    }\n",
       "\n",
       "    .dataframe tbody tr th {\n",
       "        vertical-align: top;\n",
       "    }\n",
       "\n",
       "    .dataframe thead th {\n",
       "        text-align: right;\n",
       "    }\n",
       "</style>\n",
       "<table border=\"1\" class=\"dataframe\">\n",
       "  <thead>\n",
       "    <tr style=\"text-align: right;\">\n",
       "      <th></th>\n",
       "      <th>High</th>\n",
       "      <th>Low</th>\n",
       "      <th>Open</th>\n",
       "      <th>Close</th>\n",
       "      <th>Volume</th>\n",
       "      <th>Adj Close</th>\n",
       "    </tr>\n",
       "  </thead>\n",
       "  <tbody>\n",
       "    <tr>\n",
       "      <th>count</th>\n",
       "      <td>2135.000000</td>\n",
       "      <td>2135.000000</td>\n",
       "      <td>2135.000000</td>\n",
       "      <td>2135.000000</td>\n",
       "      <td>2.135000e+03</td>\n",
       "      <td>2135.000000</td>\n",
       "    </tr>\n",
       "    <tr>\n",
       "      <th>mean</th>\n",
       "      <td>0.388661</td>\n",
       "      <td>0.351190</td>\n",
       "      <td>0.370162</td>\n",
       "      <td>0.370745</td>\n",
       "      <td>1.938017e+09</td>\n",
       "      <td>0.370745</td>\n",
       "    </tr>\n",
       "    <tr>\n",
       "      <th>std</th>\n",
       "      <td>0.419015</td>\n",
       "      <td>0.359167</td>\n",
       "      <td>0.388848</td>\n",
       "      <td>0.389212</td>\n",
       "      <td>3.594683e+09</td>\n",
       "      <td>0.389212</td>\n",
       "    </tr>\n",
       "    <tr>\n",
       "      <th>min</th>\n",
       "      <td>0.005192</td>\n",
       "      <td>0.005011</td>\n",
       "      <td>0.005109</td>\n",
       "      <td>0.005112</td>\n",
       "      <td>5.478200e+04</td>\n",
       "      <td>0.005112</td>\n",
       "    </tr>\n",
       "    <tr>\n",
       "      <th>25%</th>\n",
       "      <td>0.178700</td>\n",
       "      <td>0.165628</td>\n",
       "      <td>0.174090</td>\n",
       "      <td>0.174208</td>\n",
       "      <td>7.699845e+07</td>\n",
       "      <td>0.174208</td>\n",
       "    </tr>\n",
       "    <tr>\n",
       "      <th>50%</th>\n",
       "      <td>0.282471</td>\n",
       "      <td>0.264747</td>\n",
       "      <td>0.273473</td>\n",
       "      <td>0.274080</td>\n",
       "      <td>8.095980e+08</td>\n",
       "      <td>0.274080</td>\n",
       "    </tr>\n",
       "    <tr>\n",
       "      <th>75%</th>\n",
       "      <td>0.483092</td>\n",
       "      <td>0.450943</td>\n",
       "      <td>0.466416</td>\n",
       "      <td>0.467159</td>\n",
       "      <td>2.087343e+09</td>\n",
       "      <td>0.467159</td>\n",
       "    </tr>\n",
       "    <tr>\n",
       "      <th>max</th>\n",
       "      <td>3.841940</td>\n",
       "      <td>3.117340</td>\n",
       "      <td>3.363570</td>\n",
       "      <td>3.377810</td>\n",
       "      <td>3.695518e+10</td>\n",
       "      <td>3.377810</td>\n",
       "    </tr>\n",
       "  </tbody>\n",
       "</table>\n",
       "</div>"
      ],
      "text/plain": [
       "              High          Low         Open        Close        Volume  \\\n",
       "count  2135.000000  2135.000000  2135.000000  2135.000000  2.135000e+03   \n",
       "mean      0.388661     0.351190     0.370162     0.370745  1.938017e+09   \n",
       "std       0.419015     0.359167     0.388848     0.389212  3.594683e+09   \n",
       "min       0.005192     0.005011     0.005109     0.005112  5.478200e+04   \n",
       "25%       0.178700     0.165628     0.174090     0.174208  7.699845e+07   \n",
       "50%       0.282471     0.264747     0.273473     0.274080  8.095980e+08   \n",
       "75%       0.483092     0.450943     0.466416     0.467159  2.087343e+09   \n",
       "max       3.841940     3.117340     3.363570     3.377810  3.695518e+10   \n",
       "\n",
       "         Adj Close  \n",
       "count  2135.000000  \n",
       "mean      0.370745  \n",
       "std       0.389212  \n",
       "min       0.005112  \n",
       "25%       0.174208  \n",
       "50%       0.274080  \n",
       "75%       0.467159  \n",
       "max       3.377810  "
      ]
     },
     "execution_count": 6,
     "metadata": {},
     "output_type": "execute_result"
    }
   ],
   "source": [
    "data.describe()"
   ]
  },
  {
   "cell_type": "code",
   "execution_count": 7,
   "id": "12b62101",
   "metadata": {},
   "outputs": [
    {
     "data": {
      "text/html": [
       "<div>\n",
       "<style scoped>\n",
       "    .dataframe tbody tr th:only-of-type {\n",
       "        vertical-align: middle;\n",
       "    }\n",
       "\n",
       "    .dataframe tbody tr th {\n",
       "        vertical-align: top;\n",
       "    }\n",
       "\n",
       "    .dataframe thead th {\n",
       "        text-align: right;\n",
       "    }\n",
       "</style>\n",
       "<table border=\"1\" class=\"dataframe\">\n",
       "  <thead>\n",
       "    <tr style=\"text-align: right;\">\n",
       "      <th></th>\n",
       "      <th>High</th>\n",
       "      <th>Low</th>\n",
       "      <th>Open</th>\n",
       "      <th>Close</th>\n",
       "      <th>Volume</th>\n",
       "      <th>Adj Close</th>\n",
       "    </tr>\n",
       "    <tr>\n",
       "      <th>Date</th>\n",
       "      <th></th>\n",
       "      <th></th>\n",
       "      <th></th>\n",
       "      <th></th>\n",
       "      <th></th>\n",
       "      <th></th>\n",
       "    </tr>\n",
       "  </thead>\n",
       "  <tbody>\n",
       "    <tr>\n",
       "      <th>2015-12-31</th>\n",
       "      <td>0.006184</td>\n",
       "      <td>0.006039</td>\n",
       "      <td>0.006184</td>\n",
       "      <td>0.006040</td>\n",
       "      <td>374355.0</td>\n",
       "      <td>0.006040</td>\n",
       "    </tr>\n",
       "    <tr>\n",
       "      <th>2016-01-01</th>\n",
       "      <td>0.006044</td>\n",
       "      <td>0.005933</td>\n",
       "      <td>0.006040</td>\n",
       "      <td>0.005955</td>\n",
       "      <td>211767.0</td>\n",
       "      <td>0.005955</td>\n",
       "    </tr>\n",
       "    <tr>\n",
       "      <th>2016-01-02</th>\n",
       "      <td>0.006079</td>\n",
       "      <td>0.005933</td>\n",
       "      <td>0.005957</td>\n",
       "      <td>0.006065</td>\n",
       "      <td>278539.0</td>\n",
       "      <td>0.006065</td>\n",
       "    </tr>\n",
       "    <tr>\n",
       "      <th>2016-01-03</th>\n",
       "      <td>0.006070</td>\n",
       "      <td>0.005988</td>\n",
       "      <td>0.006066</td>\n",
       "      <td>0.006017</td>\n",
       "      <td>291723.0</td>\n",
       "      <td>0.006017</td>\n",
       "    </tr>\n",
       "    <tr>\n",
       "      <th>2016-01-04</th>\n",
       "      <td>0.006059</td>\n",
       "      <td>0.005953</td>\n",
       "      <td>0.006019</td>\n",
       "      <td>0.005958</td>\n",
       "      <td>310820.0</td>\n",
       "      <td>0.005958</td>\n",
       "    </tr>\n",
       "    <tr>\n",
       "      <th>2016-01-05</th>\n",
       "      <td>0.006044</td>\n",
       "      <td>0.005953</td>\n",
       "      <td>0.005954</td>\n",
       "      <td>0.006044</td>\n",
       "      <td>381554.0</td>\n",
       "      <td>0.006044</td>\n",
       "    </tr>\n",
       "    <tr>\n",
       "      <th>2016-01-06</th>\n",
       "      <td>0.006044</td>\n",
       "      <td>0.005983</td>\n",
       "      <td>0.006044</td>\n",
       "      <td>0.006003</td>\n",
       "      <td>316235.0</td>\n",
       "      <td>0.006003</td>\n",
       "    </tr>\n",
       "    <tr>\n",
       "      <th>2016-01-07</th>\n",
       "      <td>0.006090</td>\n",
       "      <td>0.005998</td>\n",
       "      <td>0.005998</td>\n",
       "      <td>0.006039</td>\n",
       "      <td>426048.0</td>\n",
       "      <td>0.006039</td>\n",
       "    </tr>\n",
       "    <tr>\n",
       "      <th>2016-01-08</th>\n",
       "      <td>0.006055</td>\n",
       "      <td>0.005905</td>\n",
       "      <td>0.006040</td>\n",
       "      <td>0.005933</td>\n",
       "      <td>288641.0</td>\n",
       "      <td>0.005933</td>\n",
       "    </tr>\n",
       "    <tr>\n",
       "      <th>2016-01-09</th>\n",
       "      <td>0.006005</td>\n",
       "      <td>0.005933</td>\n",
       "      <td>0.005937</td>\n",
       "      <td>0.005982</td>\n",
       "      <td>310336.0</td>\n",
       "      <td>0.005982</td>\n",
       "    </tr>\n",
       "  </tbody>\n",
       "</table>\n",
       "</div>"
      ],
      "text/plain": [
       "                High       Low      Open     Close    Volume  Adj Close\n",
       "Date                                                                   \n",
       "2015-12-31  0.006184  0.006039  0.006184  0.006040  374355.0   0.006040\n",
       "2016-01-01  0.006044  0.005933  0.006040  0.005955  211767.0   0.005955\n",
       "2016-01-02  0.006079  0.005933  0.005957  0.006065  278539.0   0.006065\n",
       "2016-01-03  0.006070  0.005988  0.006066  0.006017  291723.0   0.006017\n",
       "2016-01-04  0.006059  0.005953  0.006019  0.005958  310820.0   0.005958\n",
       "2016-01-05  0.006044  0.005953  0.005954  0.006044  381554.0   0.006044\n",
       "2016-01-06  0.006044  0.005983  0.006044  0.006003  316235.0   0.006003\n",
       "2016-01-07  0.006090  0.005998  0.005998  0.006039  426048.0   0.006039\n",
       "2016-01-08  0.006055  0.005905  0.006040  0.005933  288641.0   0.005933\n",
       "2016-01-09  0.006005  0.005933  0.005937  0.005982  310336.0   0.005982"
      ]
     },
     "execution_count": 7,
     "metadata": {},
     "output_type": "execute_result"
    }
   ],
   "source": [
    "data.head(10)"
   ]
  },
  {
   "cell_type": "code",
   "execution_count": 27,
   "id": "a4d1b69e",
   "metadata": {},
   "outputs": [
    {
     "data": {
      "text/plain": [
       "array([[2.75150660e-04],\n",
       "       [2.49948300e-04],\n",
       "       [2.82563111e-04],\n",
       "       ...,\n",
       "       [3.42877126e-01],\n",
       "       [3.40185222e-01],\n",
       "       [3.59532505e-01]])"
      ]
     },
     "execution_count": 27,
     "metadata": {},
     "output_type": "execute_result"
    }
   ],
   "source": [
    "# Prepare Data\n",
    "scaler =MinMaxScaler(feature_range=(0,1))\n",
    "scaled_data =scaler.fit_transform(data['Close'].values.reshape(-1,1))\n"
   ]
  },
  {
   "cell_type": "code",
   "execution_count": 9,
   "id": "68660edd",
   "metadata": {},
   "outputs": [],
   "source": [
    "prediction_days=60\n",
    "x_train,y_train=[],[]"
   ]
  },
  {
   "cell_type": "code",
   "execution_count": 10,
   "id": "7856c2d1",
   "metadata": {},
   "outputs": [],
   "source": [
    "for x in range(prediction_days, len(scaled_data)):\n",
    "    x_train.append(scaled_data[x-prediction_days:x,0])\n",
    "    y_train.append(scaled_data[x,0])"
   ]
  },
  {
   "cell_type": "code",
   "execution_count": 11,
   "id": "26332d36",
   "metadata": {},
   "outputs": [],
   "source": [
    "x_train,y_train =np.array(x_train),np.array(y_train)\n",
    "x_train=np.reshape(x_train,(x_train.shape[0],x_train.shape[1],1))"
   ]
  },
  {
   "cell_type": "code",
   "execution_count": 12,
   "id": "ce5a25bf",
   "metadata": {},
   "outputs": [
    {
     "name": "stdout",
     "output_type": "stream",
     "text": [
      "Epoch 1/25\n",
      "65/65 [==============================] - 3s 50ms/step - loss: 0.0045\n",
      "Epoch 2/25\n",
      "65/65 [==============================] - 3s 48ms/step - loss: 0.0020\n",
      "Epoch 3/25\n",
      "65/65 [==============================] - 3s 50ms/step - loss: 0.0018\n",
      "Epoch 4/25\n",
      "65/65 [==============================] - 3s 48ms/step - loss: 0.0014\n",
      "Epoch 5/25\n",
      "65/65 [==============================] - 3s 48ms/step - loss: 0.0012\n",
      "Epoch 6/25\n",
      "65/65 [==============================] - 3s 50ms/step - loss: 0.0012\n",
      "Epoch 7/25\n",
      "65/65 [==============================] - 3s 48ms/step - loss: 0.0012\n",
      "Epoch 8/25\n",
      "65/65 [==============================] - 3s 49ms/step - loss: 9.5153e-04\n",
      "Epoch 9/25\n",
      "65/65 [==============================] - 3s 48ms/step - loss: 9.2812e-04\n",
      "Epoch 10/25\n",
      "65/65 [==============================] - 3s 48ms/step - loss: 8.9430e-04\n",
      "Epoch 11/25\n",
      "65/65 [==============================] - 3s 48ms/step - loss: 7.6321e-04\n",
      "Epoch 12/25\n",
      "65/65 [==============================] - 3s 50ms/step - loss: 8.7385e-04\n",
      "Epoch 13/25\n",
      "65/65 [==============================] - 3s 49ms/step - loss: 0.0010\n",
      "Epoch 14/25\n",
      "65/65 [==============================] - 3s 47ms/step - loss: 7.4583e-04\n",
      "Epoch 15/25\n",
      "65/65 [==============================] - 3s 47ms/step - loss: 8.2362e-04\n",
      "Epoch 16/25\n",
      "65/65 [==============================] - 3s 47ms/step - loss: 7.2660e-04\n",
      "Epoch 17/25\n",
      "65/65 [==============================] - 3s 47ms/step - loss: 7.6347e-04\n",
      "Epoch 18/25\n",
      "65/65 [==============================] - 3s 49ms/step - loss: 7.0709e-04\n",
      "Epoch 19/25\n",
      "65/65 [==============================] - 3s 49ms/step - loss: 6.6517e-04\n",
      "Epoch 20/25\n",
      "65/65 [==============================] - 3s 49ms/step - loss: 7.2093e-04\n",
      "Epoch 21/25\n",
      "65/65 [==============================] - 3s 47ms/step - loss: 7.1681e-04\n",
      "Epoch 22/25\n",
      "65/65 [==============================] - 3s 47ms/step - loss: 8.4524e-04\n",
      "Epoch 23/25\n",
      "65/65 [==============================] - 3s 48ms/step - loss: 8.2527e-04\n",
      "Epoch 24/25\n",
      "65/65 [==============================] - 3s 47ms/step - loss: 7.4672e-04\n",
      "Epoch 25/25\n",
      "65/65 [==============================] - 3s 47ms/step - loss: 6.2329e-04\n"
     ]
    },
    {
     "data": {
      "text/plain": [
       "<tensorflow.python.keras.callbacks.History at 0x1ba87574d90>"
      ]
     },
     "execution_count": 12,
     "metadata": {},
     "output_type": "execute_result"
    }
   ],
   "source": [
    "#Create Nueral Network\n",
    "model=Sequential() #as data is sequential\n",
    "\n",
    "#LSTM layer\n",
    "model.add(LSTM(units=50, return_sequences=True,input_shape=(x_train.shape[1],1)))\n",
    "model.add(Dropout(0.2))\n",
    "model.add(LSTM(units=50,return_sequences=True))\n",
    "model.add(Dropout(0.2))\n",
    "model.add(LSTM(units=50))\n",
    "model.add(Dropout(0.2))\n",
    "model.add(Dense(units=1))\n",
    "\n",
    "model.compile(optimizer='adam',loss='mean_squared_error')\n",
    "model.fit(x_train,y_train,epochs=25,batch_size=32)"
   ]
  },
  {
   "cell_type": "code",
   "execution_count": 13,
   "id": "64721c06",
   "metadata": {},
   "outputs": [
    {
     "data": {
      "text/plain": [
       "array([[[2.75150660e-04],\n",
       "        [2.49948300e-04],\n",
       "        [2.82563111e-04],\n",
       "        ...,\n",
       "        [8.73484832e-04],\n",
       "        [8.47985902e-04],\n",
       "        [8.23376406e-04]],\n",
       "\n",
       "       [[2.49948300e-04],\n",
       "        [2.82563111e-04],\n",
       "        [2.68331211e-04],\n",
       "        ...,\n",
       "        [8.47985902e-04],\n",
       "        [8.23376406e-04],\n",
       "        [8.33457294e-04]],\n",
       "\n",
       "       [[2.82563111e-04],\n",
       "        [2.68331211e-04],\n",
       "        [2.50837872e-04],\n",
       "        ...,\n",
       "        [8.23376406e-04],\n",
       "        [8.33457294e-04],\n",
       "        [8.58066791e-04]],\n",
       "\n",
       "       ...,\n",
       "\n",
       "       [[4.10443212e-01],\n",
       "        [3.32074483e-01],\n",
       "        [3.24846176e-01],\n",
       "        ...,\n",
       "        [3.35364749e-01],\n",
       "        [3.56890544e-01],\n",
       "        [3.54876423e-01]],\n",
       "\n",
       "       [[3.32074483e-01],\n",
       "        [3.24846176e-01],\n",
       "        [3.21490097e-01],\n",
       "        ...,\n",
       "        [3.56890544e-01],\n",
       "        [3.54876423e-01],\n",
       "        [3.42877126e-01]],\n",
       "\n",
       "       [[3.24846176e-01],\n",
       "        [3.21490097e-01],\n",
       "        [3.11962396e-01],\n",
       "        ...,\n",
       "        [3.54876423e-01],\n",
       "        [3.42877126e-01],\n",
       "        [3.40185222e-01]]])"
      ]
     },
     "execution_count": 13,
     "metadata": {},
     "output_type": "execute_result"
    }
   ],
   "source": [
    "x_train"
   ]
  },
  {
   "cell_type": "code",
   "execution_count": 14,
   "id": "509f3ff0",
   "metadata": {},
   "outputs": [
    {
     "data": {
      "text/plain": [
       "array([0.00083346, 0.00085807, 0.00086518, ..., 0.34287713, 0.34018522,\n",
       "       0.35953251])"
      ]
     },
     "execution_count": 14,
     "metadata": {},
     "output_type": "execute_result"
    }
   ],
   "source": [
    "y_train"
   ]
  },
  {
   "cell_type": "code",
   "execution_count": 15,
   "id": "22f862d3",
   "metadata": {},
   "outputs": [],
   "source": [
    "#TESTING DATA\n",
    "test_start=dt.datetime(2020,1,1)\n",
    "test_end=dt.datetime.now()"
   ]
  },
  {
   "cell_type": "code",
   "execution_count": 16,
   "id": "1c4e33a8",
   "metadata": {},
   "outputs": [],
   "source": [
    "test_data = web.DataReader(f'{crypto_curr}-{fiat_curr}','yahoo', test_start, test_end)\n",
    "actual_price=test_data['Close'].values"
   ]
  },
  {
   "cell_type": "code",
   "execution_count": 17,
   "id": "9390e9a7",
   "metadata": {},
   "outputs": [
    {
     "data": {
      "text/html": [
       "<div>\n",
       "<style scoped>\n",
       "    .dataframe tbody tr th:only-of-type {\n",
       "        vertical-align: middle;\n",
       "    }\n",
       "\n",
       "    .dataframe tbody tr th {\n",
       "        vertical-align: top;\n",
       "    }\n",
       "\n",
       "    .dataframe thead th {\n",
       "        text-align: right;\n",
       "    }\n",
       "</style>\n",
       "<table border=\"1\" class=\"dataframe\">\n",
       "  <thead>\n",
       "    <tr style=\"text-align: right;\">\n",
       "      <th></th>\n",
       "      <th>High</th>\n",
       "      <th>Low</th>\n",
       "      <th>Open</th>\n",
       "      <th>Close</th>\n",
       "      <th>Volume</th>\n",
       "      <th>Adj Close</th>\n",
       "    </tr>\n",
       "    <tr>\n",
       "      <th>Date</th>\n",
       "      <th></th>\n",
       "      <th></th>\n",
       "      <th></th>\n",
       "      <th></th>\n",
       "      <th></th>\n",
       "      <th></th>\n",
       "    </tr>\n",
       "  </thead>\n",
       "  <tbody>\n",
       "    <tr>\n",
       "      <th>2019-12-31</th>\n",
       "      <td>0.194878</td>\n",
       "      <td>0.189969</td>\n",
       "      <td>0.194518</td>\n",
       "      <td>0.192894</td>\n",
       "      <td>1.116761e+09</td>\n",
       "      <td>0.192894</td>\n",
       "    </tr>\n",
       "    <tr>\n",
       "      <th>2020-01-01</th>\n",
       "      <td>0.194362</td>\n",
       "      <td>0.192107</td>\n",
       "      <td>0.192912</td>\n",
       "      <td>0.192667</td>\n",
       "      <td>1.041134e+09</td>\n",
       "      <td>0.192667</td>\n",
       "    </tr>\n",
       "    <tr>\n",
       "      <th>2020-01-02</th>\n",
       "      <td>0.192896</td>\n",
       "      <td>0.186947</td>\n",
       "      <td>0.192708</td>\n",
       "      <td>0.188043</td>\n",
       "      <td>1.085351e+09</td>\n",
       "      <td>0.188043</td>\n",
       "    </tr>\n",
       "    <tr>\n",
       "      <th>2020-01-03</th>\n",
       "      <td>0.194070</td>\n",
       "      <td>0.185846</td>\n",
       "      <td>0.187948</td>\n",
       "      <td>0.193521</td>\n",
       "      <td>1.270017e+09</td>\n",
       "      <td>0.193521</td>\n",
       "    </tr>\n",
       "    <tr>\n",
       "      <th>2020-01-04</th>\n",
       "      <td>0.194653</td>\n",
       "      <td>0.191835</td>\n",
       "      <td>0.193521</td>\n",
       "      <td>0.194355</td>\n",
       "      <td>9.993316e+08</td>\n",
       "      <td>0.194355</td>\n",
       "    </tr>\n",
       "    <tr>\n",
       "      <th>...</th>\n",
       "      <td>...</td>\n",
       "      <td>...</td>\n",
       "      <td>...</td>\n",
       "      <td>...</td>\n",
       "      <td>...</td>\n",
       "      <td>...</td>\n",
       "    </tr>\n",
       "    <tr>\n",
       "      <th>2021-11-03</th>\n",
       "      <td>1.233025</td>\n",
       "      <td>1.126961</td>\n",
       "      <td>1.135938</td>\n",
       "      <td>1.208796</td>\n",
       "      <td>6.526804e+09</td>\n",
       "      <td>1.208796</td>\n",
       "    </tr>\n",
       "    <tr>\n",
       "      <th>2021-11-04</th>\n",
       "      <td>1.253728</td>\n",
       "      <td>1.166933</td>\n",
       "      <td>1.210519</td>\n",
       "      <td>1.202003</td>\n",
       "      <td>5.210116e+09</td>\n",
       "      <td>1.202003</td>\n",
       "    </tr>\n",
       "    <tr>\n",
       "      <th>2021-11-05</th>\n",
       "      <td>1.202404</td>\n",
       "      <td>1.141375</td>\n",
       "      <td>1.201917</td>\n",
       "      <td>1.161533</td>\n",
       "      <td>3.572444e+09</td>\n",
       "      <td>1.161533</td>\n",
       "    </tr>\n",
       "    <tr>\n",
       "      <th>2021-11-06</th>\n",
       "      <td>1.173303</td>\n",
       "      <td>1.108774</td>\n",
       "      <td>1.160634</td>\n",
       "      <td>1.152454</td>\n",
       "      <td>2.630197e+09</td>\n",
       "      <td>1.152454</td>\n",
       "    </tr>\n",
       "    <tr>\n",
       "      <th>2021-11-07</th>\n",
       "      <td>1.235425</td>\n",
       "      <td>1.148102</td>\n",
       "      <td>1.151698</td>\n",
       "      <td>1.216633</td>\n",
       "      <td>3.243415e+09</td>\n",
       "      <td>1.216633</td>\n",
       "    </tr>\n",
       "  </tbody>\n",
       "</table>\n",
       "<p>674 rows × 6 columns</p>\n",
       "</div>"
      ],
      "text/plain": [
       "                High       Low      Open     Close        Volume  Adj Close\n",
       "Date                                                                       \n",
       "2019-12-31  0.194878  0.189969  0.194518  0.192894  1.116761e+09   0.192894\n",
       "2020-01-01  0.194362  0.192107  0.192912  0.192667  1.041134e+09   0.192667\n",
       "2020-01-02  0.192896  0.186947  0.192708  0.188043  1.085351e+09   0.188043\n",
       "2020-01-03  0.194070  0.185846  0.187948  0.193521  1.270017e+09   0.193521\n",
       "2020-01-04  0.194653  0.191835  0.193521  0.194355  9.993316e+08   0.194355\n",
       "...              ...       ...       ...       ...           ...        ...\n",
       "2021-11-03  1.233025  1.126961  1.135938  1.208796  6.526804e+09   1.208796\n",
       "2021-11-04  1.253728  1.166933  1.210519  1.202003  5.210116e+09   1.202003\n",
       "2021-11-05  1.202404  1.141375  1.201917  1.161533  3.572444e+09   1.161533\n",
       "2021-11-06  1.173303  1.108774  1.160634  1.152454  2.630197e+09   1.152454\n",
       "2021-11-07  1.235425  1.148102  1.151698  1.216633  3.243415e+09   1.216633\n",
       "\n",
       "[674 rows x 6 columns]"
      ]
     },
     "execution_count": 17,
     "metadata": {},
     "output_type": "execute_result"
    }
   ],
   "source": [
    "test_data"
   ]
  },
  {
   "cell_type": "code",
   "execution_count": 18,
   "id": "a49d11a8",
   "metadata": {},
   "outputs": [
    {
     "data": {
      "text/plain": [
       "Date\n",
       "2015-12-31    0.006040\n",
       "2016-01-01    0.005955\n",
       "2016-01-02    0.006065\n",
       "2016-01-03    0.006017\n",
       "2016-01-04    0.005958\n",
       "                ...   \n",
       "2021-11-03    1.208796\n",
       "2021-11-04    1.202003\n",
       "2021-11-05    1.161533\n",
       "2021-11-06    1.152454\n",
       "2021-11-07    1.216633\n",
       "Name: Close, Length: 2809, dtype: float64"
      ]
     },
     "execution_count": 18,
     "metadata": {},
     "output_type": "execute_result"
    }
   ],
   "source": [
    "total_dataset=pd.concat((data['Close'],test_data['Close']),axis=0)\n",
    "total_dataset"
   ]
  },
  {
   "cell_type": "code",
   "execution_count": 19,
   "id": "65c415c1",
   "metadata": {},
   "outputs": [],
   "source": [
    "model_inputs=total_dataset[len(total_dataset)-len(test_data)-prediction_days:].values\n",
    "model_inputs=model_inputs.reshape(-1,1)\n",
    "model_inputs=scaler.fit_transform(model_inputs)"
   ]
  },
  {
   "cell_type": "code",
   "execution_count": 20,
   "id": "6d0ed40c",
   "metadata": {},
   "outputs": [],
   "source": [
    "x_test=[]\n",
    "for x in range(prediction_days,len(model_inputs)):\n",
    "    x_test.append(model_inputs[x-prediction_days:x,0])"
   ]
  },
  {
   "cell_type": "code",
   "execution_count": 21,
   "id": "0ea82b1b",
   "metadata": {},
   "outputs": [],
   "source": [
    "x_test=np.array(x_test)\n",
    "x_test=np.reshape(x_test,(x_test.shape[0],x_test.shape[1],1))"
   ]
  },
  {
   "cell_type": "code",
   "execution_count": 22,
   "id": "d6e60d13",
   "metadata": {},
   "outputs": [],
   "source": [
    "prediction_prices=model.predict(x_test)\n",
    "prediction_prices=scaler.inverse_transform(prediction_prices)"
   ]
  },
  {
   "cell_type": "code",
   "execution_count": 23,
   "id": "0dbe0b3d",
   "metadata": {},
   "outputs": [
    {
     "data": {
      "image/png": "[encoded data removed]",
      "text/plain": [
       "<Figure size 432x288 with 1 Axes>"
      ]
     },
     "metadata": {
      "needs_background": "light"
     },
     "output_type": "display_data"
    },
    {
     "data": {
      "image/png": "[encoded data removed]",
      "text/plain": [
       "<Figure size 432x288 with 1 Axes>"
      ]
     },
     "metadata": {
      "needs_background": "light"
     },
     "output_type": "display_data"
    }
   ],
   "source": [
    "#Actual Price Graph\n",
    "plt.plot(actual_price,color='BLACK',label='ACTUAL PRICES')\n",
    "plt.title(f'{crypto_curr} price prediction')\n",
    "plt.xlabel('Time')\n",
    "plt.ylabel('Price')\n",
    "plt.legend(loc='upper left')\n",
    "plt.show()\n",
    "\n",
    "#Predicted Price Graph for 61st day price using previous 60days data\n",
    "plt.plot(prediction_prices,color='RED',label='PREDICTED PRICES')\n",
    "plt.title(f'{crypto_curr} price prediction')\n",
    "plt.xlabel('Time')\n",
    "plt.ylabel('Price')\n",
    "plt.legend(loc='upper left')\n",
    "plt.show()    \n"
   ]
  },
  {
   "cell_type": "code",
   "execution_count": 24,
   "id": "32e08eb6",
   "metadata": {},
   "outputs": [
    {
     "data": {
      "image/png": "[encoded data removed]",
      "text/plain": [
       "<Figure size 432x288 with 1 Axes>"
      ]
     },
     "metadata": {
      "needs_background": "light"
     },
     "output_type": "display_data"
    }
   ],
   "source": [
    "plt.plot(actual_price,color='BLACK',label='ACTUAL PRICES')\n",
    "plt.plot(prediction_prices,color='RED',label='PREDICTED PRICES')\n",
    "plt.title(f'{crypto_curr} price prediction (OVERLAY)')\n",
    "plt.xlabel('Time')\n",
    "plt.ylabel('Price')\n",
    "plt.legend(loc='upper left')\n",
    "plt.show()\n",
    "        "
   ]
  },
  {
   "cell_type": "code",
   "execution_count": 25,
   "id": "72f8147f",
   "metadata": {},
   "outputs": [],
   "source": [
    "#Predict Next day\n",
    "\n",
    "real_data =[model_inputs[len(model_inputs)+1 -prediction_days:len(model_inputs)]]\n",
    "real_data=np.array(real_data)\n",
    "real_data=np.reshape(real_data,(real_data.shape[0],real_data.shape[1],1))"
   ]
  },
  {
   "cell_type": "code",
   "execution_count": 26,
   "id": "87d2b34e",
   "metadata": {},
   "outputs": [
    {
     "name": "stdout",
     "output_type": "stream",
     "text": [
      "WARNING:tensorflow:Model was constructed with shape (None, 60, 1) for input Tensor(\"lstm_input:0\", shape=(None, 60, 1), dtype=float32), but it was called on an input with incompatible shape (None, 59, 1).\n",
      "Next Day Closing Price of  XRP is [[1.1227714]]\n"
     ]
    }
   ],
   "source": [
    "prediction=model.predict(real_data)\n",
    "prediction=scaler.inverse_transform(prediction)\n",
    "print('Next Day Closing Price of ' ,crypto_curr ,'is' ,prediction)"
   ]
  }
 ],
 "metadata": {
  "kernelspec": {
   "display_name": "Python 3 (ipykernel)",
   "language": "python",
   "name": "python3"
  },
  "language_info": {
   "codemirror_mode": {
    "name": "ipython",
    "version": 3
   },
   "file_extension": ".py",
   "mimetype": "text/x-python",
   "name": "python",
   "nbconvert_exporter": "python",
   "pygments_lexer": "ipython3",
   "version": "3.8.12"
  }
 },
 "nbformat": 4,
 "nbformat_minor": 5
}
